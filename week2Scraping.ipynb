{
  "nbformat": 4,
  "nbformat_minor": 0,
  "metadata": {
    "colab": {
      "provenance": [],
      "collapsed_sections": [],
      "include_colab_link": true
    },
    "kernelspec": {
      "name": "python3",
      "display_name": "Python 3"
    },
    "language_info": {
      "name": "python"
    }
  },
  "cells": [
    {
      "cell_type": "markdown",
      "metadata": {
        "id": "view-in-github",
        "colab_type": "text"
      },
      "source": [
        "<a href=\"https://colab.research.google.com/github/fabeeha123/DataScienceBootcamp/blob/main/week2Scraping.ipynb\" target=\"_parent\"><img src=\"https://colab.research.google.com/assets/colab-badge.svg\" alt=\"Open In Colab\"/></a>"
      ]
    },
    {
      "cell_type": "code",
      "execution_count": null,
      "metadata": {
        "id": "gl2RLYqs_UW3",
        "colab": {
          "base_uri": "https://localhost:8080/"
        },
        "outputId": "258c88ea-c219-4d51-8047-fd9d198a957d"
      },
      "outputs": [
        {
          "output_type": "stream",
          "name": "stdout",
          "text": [
            "Looking in indexes: https://pypi.org/simple, https://us-python.pkg.dev/colab-wheels/public/simple/\n",
            "Collecting requests-html\n",
            "  Downloading requests_html-0.10.0-py3-none-any.whl (13 kB)\n",
            "Requirement already satisfied: requests in /usr/local/lib/python3.7/dist-packages (from requests-html) (2.23.0)\n",
            "Collecting parse\n",
            "  Downloading parse-1.19.0.tar.gz (30 kB)\n",
            "Requirement already satisfied: bs4 in /usr/local/lib/python3.7/dist-packages (from requests-html) (0.0.1)\n",
            "Collecting pyppeteer>=0.0.14\n",
            "  Downloading pyppeteer-1.0.2-py3-none-any.whl (83 kB)\n",
            "\u001b[K     |████████████████████████████████| 83 kB 1.8 MB/s \n",
            "\u001b[?25hCollecting fake-useragent\n",
            "  Downloading fake-useragent-0.1.11.tar.gz (13 kB)\n",
            "Collecting pyquery\n",
            "  Downloading pyquery-1.4.3-py3-none-any.whl (22 kB)\n",
            "Collecting w3lib\n",
            "  Downloading w3lib-2.0.1-py3-none-any.whl (20 kB)\n",
            "Requirement already satisfied: certifi>=2021 in /usr/local/lib/python3.7/dist-packages (from pyppeteer>=0.0.14->requests-html) (2022.6.15)\n",
            "Requirement already satisfied: appdirs<2.0.0,>=1.4.3 in /usr/local/lib/python3.7/dist-packages (from pyppeteer>=0.0.14->requests-html) (1.4.4)\n",
            "Requirement already satisfied: tqdm<5.0.0,>=4.42.1 in /usr/local/lib/python3.7/dist-packages (from pyppeteer>=0.0.14->requests-html) (4.64.0)\n",
            "Collecting urllib3<2.0.0,>=1.25.8\n",
            "  Downloading urllib3-1.26.12-py2.py3-none-any.whl (140 kB)\n",
            "\u001b[K     |████████████████████████████████| 140 kB 81.4 MB/s \n",
            "\u001b[?25hRequirement already satisfied: importlib-metadata>=1.4 in /usr/local/lib/python3.7/dist-packages (from pyppeteer>=0.0.14->requests-html) (4.12.0)\n",
            "Collecting pyee<9.0.0,>=8.1.0\n",
            "  Downloading pyee-8.2.2-py2.py3-none-any.whl (12 kB)\n",
            "Collecting websockets<11.0,>=10.0\n",
            "  Downloading websockets-10.3-cp37-cp37m-manylinux_2_5_x86_64.manylinux1_x86_64.manylinux_2_12_x86_64.manylinux2010_x86_64.whl (112 kB)\n",
            "\u001b[K     |████████████████████████████████| 112 kB 91.7 MB/s \n",
            "\u001b[?25hRequirement already satisfied: zipp>=0.5 in /usr/local/lib/python3.7/dist-packages (from importlib-metadata>=1.4->pyppeteer>=0.0.14->requests-html) (3.8.1)\n",
            "Requirement already satisfied: typing-extensions>=3.6.4 in /usr/local/lib/python3.7/dist-packages (from importlib-metadata>=1.4->pyppeteer>=0.0.14->requests-html) (4.1.1)\n",
            "Requirement already satisfied: beautifulsoup4 in /usr/local/lib/python3.7/dist-packages (from bs4->requests-html) (4.6.3)\n",
            "Collecting cssselect>0.7.9\n",
            "  Downloading cssselect-1.1.0-py2.py3-none-any.whl (16 kB)\n",
            "Requirement already satisfied: lxml>=2.1 in /usr/local/lib/python3.7/dist-packages (from pyquery->requests-html) (4.9.1)\n",
            "Collecting urllib3<2.0.0,>=1.25.8\n",
            "  Downloading urllib3-1.25.11-py2.py3-none-any.whl (127 kB)\n",
            "\u001b[K     |████████████████████████████████| 127 kB 78.0 MB/s \n",
            "\u001b[?25hRequirement already satisfied: idna<3,>=2.5 in /usr/local/lib/python3.7/dist-packages (from requests->requests-html) (2.10)\n",
            "Requirement already satisfied: chardet<4,>=3.0.2 in /usr/local/lib/python3.7/dist-packages (from requests->requests-html) (3.0.4)\n",
            "Building wheels for collected packages: fake-useragent, parse\n",
            "  Building wheel for fake-useragent (setup.py) ... \u001b[?25l\u001b[?25hdone\n",
            "  Created wheel for fake-useragent: filename=fake_useragent-0.1.11-py3-none-any.whl size=13502 sha256=c53e266391aa04be7be303d1ed414aca1dff9d4162f76b3cc72583e8684cc258\n",
            "  Stored in directory: /root/.cache/pip/wheels/ed/f7/62/50ab6c9a0b5567267ab76a9daa9d06315704209b2c5d032031\n",
            "  Building wheel for parse (setup.py) ... \u001b[?25l\u001b[?25hdone\n",
            "  Created wheel for parse: filename=parse-1.19.0-py3-none-any.whl size=24591 sha256=99c48ee1bf82c485167cd43d823a518127be88bb0168fc2cdaaef722f4a42565\n",
            "  Stored in directory: /root/.cache/pip/wheels/9c/aa/cc/f2228050ccb40f22144b073f15a2c84f11204f29fc0dce028e\n",
            "Successfully built fake-useragent parse\n",
            "Installing collected packages: websockets, urllib3, pyee, cssselect, w3lib, pyquery, pyppeteer, parse, fake-useragent, requests-html\n",
            "  Attempting uninstall: urllib3\n",
            "    Found existing installation: urllib3 1.24.3\n",
            "    Uninstalling urllib3-1.24.3:\n",
            "      Successfully uninstalled urllib3-1.24.3\n",
            "Successfully installed cssselect-1.1.0 fake-useragent-0.1.11 parse-1.19.0 pyee-8.2.2 pyppeteer-1.0.2 pyquery-1.4.3 requests-html-0.10.0 urllib3-1.25.11 w3lib-2.0.1 websockets-10.3\n"
          ]
        }
      ],
      "source": [
        "!pip install requests-html"
      ]
    },
    {
      "cell_type": "code",
      "source": [
        "from requests_html import HTMLSession"
      ],
      "metadata": {
        "id": "x0y_rkLZ_ji0"
      },
      "execution_count": null,
      "outputs": []
    },
    {
      "cell_type": "code",
      "source": [
        "session = HTMLSession()"
      ],
      "metadata": {
        "id": "9gCs0o3A_ndM"
      },
      "execution_count": null,
      "outputs": []
    },
    {
      "cell_type": "markdown",
      "source": [
        "## Hadith Scraping"
      ],
      "metadata": {
        "id": "Bh4PYnZyDtqo"
      }
    },
    {
      "cell_type": "code",
      "source": [
        "url = \"http://ihadis.com/books/bukhari/chapter/6\""
      ],
      "metadata": {
        "id": "B6gZsm3TD63p"
      },
      "execution_count": null,
      "outputs": []
    },
    {
      "cell_type": "code",
      "source": [
        "def hadith_book_scrapping(book_name, url, total_chapter):\n",
        "  # url = \"http://ihadis.com/books/bukhari\"\n",
        "  for i in range(1, total_chapter+1):\n",
        "    chapter_url = url + \"/chapter/\" + str(i)\n",
        "    print(chapter_url)\n",
        "    # chapter_url = http://ihadis.com/books/bukhari/chapter/2\n",
        "\n",
        "    r = session.get(chapter_url)\n",
        "    # define the patter\n",
        "    no_pattern = \"h3.hidden-print\"\n",
        "    arabic_text_pattern = \"p.hadith-des2\"\n",
        "    bangla_text_pattern = \".hadith-des\"\n",
        "    narrator_pattern = \".narrated-by\"\n",
        "    hadith_status_pattern = \".label.validity\"\n",
        "\n",
        "    numbers = [i.text for i in r.html.find(no_pattern)]\n",
        "    arabic_text = [i.text for i in r.html.find(arabic_text_pattern)]\n",
        "    bangla_text = [i.text for i in r.html.find(bangla_text_pattern)]\n",
        "    narrator = [i.text for i in r.html.find(narrator_pattern)]\n",
        "    hadith_status = [i.text for i in r.html.find(hadith_status_pattern)]\n",
        "    print(\"Chapter: \", i, len(numbers), len(arabic_text), len(bangla_text), len(narrator), len(hadith_status))\n",
        "\n",
        "    with open(f\"{book_name}/{book_name}_chapter_{i}.txt\", \"w\") as f:\n",
        "      f.write(\"No., Arabic Text, Bangla Text, Narrator, Hadith Status\\n\")\n",
        "      for n, a, b, na, hs in zip(numbers, arabic_text, bangla_text, narrator, hadith_status):\n",
        "        f.write(f\"{n}, {a}, {b}, {na}, {hs}\")\n",
        "        f.write('\\n')"
      ],
      "metadata": {
        "id": "hDYJLLosD69S"
      },
      "execution_count": null,
      "outputs": []
    },
    {
      "cell_type": "code",
      "source": [
        "book_name = \"Imam-Malik\"\n",
        "url = \"http://ihadis.com/books/muatta-malik\"\n",
        "total_chapter = 61\n",
        "#start = time.time()\n",
        "hadith_book_scrapping(book_name, url, total_chapter)"
      ],
      "metadata": {
        "colab": {
          "base_uri": "https://localhost:8080/"
        },
        "id": "cCoJz7va3gGM",
        "outputId": "cd23d468-ed55-41c5-a8fe-116638b28f0d"
      },
      "execution_count": 24,
      "outputs": [
        {
          "output_type": "stream",
          "name": "stdout",
          "text": [
            "http://ihadis.com/books/muatta-malik/chapter/1\n",
            "Chapter:  1 30 30 30 30 30\n",
            "http://ihadis.com/books/muatta-malik/chapter/2\n",
            "Chapter:  2 115 115 115 115 115\n",
            "http://ihadis.com/books/muatta-malik/chapter/3\n",
            "Chapter:  3 70 70 70 70 70\n",
            "http://ihadis.com/books/muatta-malik/chapter/4\n",
            "Chapter:  4 3 3 3 3 3\n",
            "http://ihadis.com/books/muatta-malik/chapter/5\n",
            "Chapter:  5 21 21 21 21 21\n",
            "http://ihadis.com/books/muatta-malik/chapter/6\n",
            "Chapter:  6 7 7 7 7 7\n",
            "http://ihadis.com/books/muatta-malik/chapter/7\n",
            "Chapter:  7 33 33 33 33 33\n",
            "http://ihadis.com/books/muatta-malik/chapter/8\n",
            "Chapter:  8 38 38 38 38 38\n",
            "http://ihadis.com/books/muatta-malik/chapter/9\n",
            "Chapter:  9 95 95 95 95 95\n",
            "http://ihadis.com/books/muatta-malik/chapter/10\n",
            "Chapter:  10 13 13 13 13 13\n",
            "http://ihadis.com/books/muatta-malik/chapter/11\n",
            "Chapter:  11 4 4 4 4 4\n",
            "http://ihadis.com/books/muatta-malik/chapter/12\n",
            "Chapter:  12 4 4 4 4 4\n",
            "http://ihadis.com/books/muatta-malik/chapter/13\n",
            "Chapter:  13 6 6 6 6 6\n",
            "http://ihadis.com/books/muatta-malik/chapter/14\n",
            "Chapter:  14 14 14 14 14 14\n",
            "http://ihadis.com/books/muatta-malik/chapter/15\n",
            "Chapter:  15 50 50 50 50 50\n",
            "http://ihadis.com/books/muatta-malik/chapter/16\n",
            "Chapter:  16 56 56 56 56 56\n",
            "http://ihadis.com/books/muatta-malik/chapter/17\n",
            "Chapter:  17 56 56 56 56 56\n",
            "http://ihadis.com/books/muatta-malik/chapter/18\n",
            "Chapter:  18 60 60 60 60 60\n",
            "http://ihadis.com/books/muatta-malik/chapter/19\n",
            "Chapter:  19 16 16 16 16 16\n",
            "http://ihadis.com/books/muatta-malik/chapter/20\n",
            "Chapter:  20 258 258 258 258 258\n",
            "http://ihadis.com/books/muatta-malik/chapter/21\n",
            "Chapter:  21 51 51 51 51 51\n",
            "http://ihadis.com/books/muatta-malik/chapter/22\n",
            "Chapter:  22 17 17 17 17 17\n",
            "http://ihadis.com/books/muatta-malik/chapter/23\n",
            "Chapter:  23 13 13 13 13 13\n",
            "http://ihadis.com/books/muatta-malik/chapter/24\n",
            "Chapter:  24 9 9 9 9 9\n",
            "http://ihadis.com/books/muatta-malik/chapter/25\n",
            "Chapter:  25 19 19 19 19 19\n",
            "http://ihadis.com/books/muatta-malik/chapter/26\n",
            "Chapter:  26 7 7 7 7 7\n",
            "http://ihadis.com/books/muatta-malik/chapter/27\n",
            "Chapter:  27 16 16 16 16 16\n",
            "http://ihadis.com/books/muatta-malik/chapter/28\n",
            "Chapter:  28 57 57 57 57 57\n",
            "http://ihadis.com/books/muatta-malik/chapter/29\n",
            "Chapter:  29 109 109 109 109 109\n",
            "http://ihadis.com/books/muatta-malik/chapter/30\n",
            "Chapter:  30 17 17 17 17 17\n",
            "http://ihadis.com/books/muatta-malik/chapter/31\n",
            "Chapter:  31 103 103 103 103 103\n",
            "http://ihadis.com/books/muatta-malik/chapter/32\n",
            "Chapter:  32 16 16 16 16 16\n",
            "http://ihadis.com/books/muatta-malik/chapter/33\n",
            "Chapter:  33 3 3 3 3 3\n",
            "http://ihadis.com/books/muatta-malik/chapter/34\n",
            "Chapter:  34 5 5 5 5 5\n",
            "http://ihadis.com/books/muatta-malik/chapter/35\n",
            "Chapter:  35 4 4 4 4 4\n",
            "http://ihadis.com/books/muatta-malik/chapter/36\n",
            "Chapter:  36 58 58 58 58 58\n",
            "http://ihadis.com/books/muatta-malik/chapter/37\n",
            "Chapter:  37 13 13 13 13 13\n",
            "http://ihadis.com/books/muatta-malik/chapter/38\n",
            "Chapter:  38 25 25 25 25 25\n",
            "http://ihadis.com/books/muatta-malik/chapter/39\n",
            "Chapter:  39 15 15 15 15 15\n",
            "http://ihadis.com/books/muatta-malik/chapter/40\n",
            "Chapter:  40 8 8 8 8 8\n",
            "http://ihadis.com/books/muatta-malik/chapter/41\n",
            "Chapter:  41 37 37 37 37 37\n",
            "http://ihadis.com/books/muatta-malik/chapter/42\n",
            "Chapter:  42 15 15 15 15 15\n",
            "http://ihadis.com/books/muatta-malik/chapter/43\n",
            "Chapter:  43 29 29 29 29 29\n",
            "http://ihadis.com/books/muatta-malik/chapter/44\n",
            "Chapter:  44 2 2 2 2 2\n",
            "http://ihadis.com/books/muatta-malik/chapter/45\n",
            "Chapter:  45 26 26 26 26 26\n",
            "http://ihadis.com/books/muatta-malik/chapter/46\n",
            "Chapter:  46 10 10 10 10 10\n",
            "http://ihadis.com/books/muatta-malik/chapter/47\n",
            "Chapter:  47 18 18 18 18 18\n",
            "http://ihadis.com/books/muatta-malik/chapter/48\n",
            "Chapter:  48 19 19 19 19 19\n",
            "http://ihadis.com/books/muatta-malik/chapter/49\n",
            "Chapter:  49 39 39 39 39 39\n",
            "http://ihadis.com/books/muatta-malik/chapter/50\n",
            "Chapter:  50 18 18 18 18 18\n",
            "http://ihadis.com/books/muatta-malik/chapter/51\n",
            "Chapter:  51 17 17 17 17 17\n",
            "http://ihadis.com/books/muatta-malik/chapter/52\n",
            "Chapter:  52 7 7 7 7 7\n",
            "http://ihadis.com/books/muatta-malik/chapter/53\n",
            "Chapter:  53 8 8 8 8 8\n",
            "http://ihadis.com/books/muatta-malik/chapter/54\n",
            "Chapter:  54 44 44 44 44 44\n",
            "http://ihadis.com/books/muatta-malik/chapter/55\n",
            "Chapter:  55 3 3 3 3 3\n",
            "http://ihadis.com/books/muatta-malik/chapter/56\n",
            "Chapter:  56 28 28 28 28 28\n",
            "http://ihadis.com/books/muatta-malik/chapter/57\n",
            "Chapter:  57 2 2 2 2 2\n",
            "http://ihadis.com/books/muatta-malik/chapter/58\n",
            "Chapter:  58 15 15 15 15 15\n",
            "http://ihadis.com/books/muatta-malik/chapter/59\n",
            "Chapter:  59 1 1 1 1 1\n",
            "http://ihadis.com/books/muatta-malik/chapter/60\n",
            "Chapter:  60 1 1 1 1 1\n",
            "http://ihadis.com/books/muatta-malik/chapter/61\n",
            "Chapter:  61 1 1 1 1 1\n"
          ]
        }
      ]
    },
    {
      "cell_type": "code",
      "source": [
        "book_name = \"Tirmiji\"\n",
        "url = \"http://ihadis.com/books/tirmidi\"\n",
        "total_chapter = 46\n",
        "#start = time.time()\n",
        "hadith_book_scrapping(book_name, url, total_chapter)\n"
      ],
      "metadata": {
        "id": "gZoh8RzpoCxZ",
        "colab": {
          "base_uri": "https://localhost:8080/"
        },
        "outputId": "77a8d50b-cb05-4d59-b5ce-830a49b068cc"
      },
      "execution_count": null,
      "outputs": [
        {
          "output_type": "stream",
          "name": "stdout",
          "text": [
            "http://ihadis.com/books/tirmidi/chapter/1\n",
            "Chapter:  1 148 148 148 148 148\n",
            "http://ihadis.com/books/tirmidi/chapter/2\n",
            "Chapter:  2 301 301 301 301 301\n",
            "http://ihadis.com/books/tirmidi/chapter/3\n",
            "Chapter:  3 35 35 35 35 35\n",
            "http://ihadis.com/books/tirmidi/chapter/4\n",
            "Chapter:  4 126 126 126 126 126\n",
            "http://ihadis.com/books/tirmidi/chapter/5\n",
            "Chapter:  5 64 64 64 64 64\n",
            "http://ihadis.com/books/tirmidi/chapter/6\n",
            "Chapter:  6 127 127 127 127 127\n",
            "http://ihadis.com/books/tirmidi/chapter/7\n",
            "Chapter:  7 155 155 155 155 155\n",
            "http://ihadis.com/books/tirmidi/chapter/8\n",
            "Chapter:  8 115 115 115 115 115\n",
            "http://ihadis.com/books/tirmidi/chapter/9\n",
            "Chapter:  9 66 66 66 66 66\n",
            "http://ihadis.com/books/tirmidi/chapter/10\n",
            "Chapter:  10 29 29 29 29 29\n",
            "http://ihadis.com/books/tirmidi/chapter/11\n",
            "Chapter:  11 30 30 30 30 30\n",
            "http://ihadis.com/books/tirmidi/chapter/12\n",
            "Chapter:  12 117 117 117 117 117\n",
            "http://ihadis.com/books/tirmidi/chapter/13\n",
            "Chapter:  13 64 64 64 64 64\n",
            "http://ihadis.com/books/tirmidi/chapter/14\n",
            "Chapter:  14 37 37 37 37 37\n",
            "http://ihadis.com/books/tirmidi/chapter/15\n",
            "Chapter:  15 41 41 41 41 41\n",
            "http://ihadis.com/books/tirmidi/chapter/16\n",
            "Chapter:  16 29 29 29 29 29\n",
            "http://ihadis.com/books/tirmidi/chapter/17\n",
            "Chapter:  17 30 30 30 30 30\n",
            "http://ihadis.com/books/tirmidi/chapter/18\n",
            "Chapter:  18 24 24 24 24 24\n",
            "http://ihadis.com/books/tirmidi/chapter/19\n",
            "Chapter:  19 71 71 71 71 71\n",
            "http://ihadis.com/books/tirmidi/chapter/20\n",
            "Chapter:  20 51 51 51 51 51\n",
            "http://ihadis.com/books/tirmidi/chapter/21\n",
            "Chapter:  21 50 50 50 50 50\n",
            "http://ihadis.com/books/tirmidi/chapter/22\n",
            "Chapter:  22 68 68 68 68 68\n",
            "http://ihadis.com/books/tirmidi/chapter/23\n",
            "Chapter:  23 73 73 73 73 73\n",
            "http://ihadis.com/books/tirmidi/chapter/24\n",
            "Chapter:  24 36 36 36 36 36\n",
            "http://ihadis.com/books/tirmidi/chapter/25\n",
            "Chapter:  25 139 139 139 139 139\n",
            "http://ihadis.com/books/tirmidi/chapter/26\n",
            "Chapter:  26 54 54 54 54 54\n",
            "http://ihadis.com/books/tirmidi/chapter/27\n",
            "Chapter:  27 26 26 26 26 26\n",
            "http://ihadis.com/books/tirmidi/chapter/28\n",
            "Chapter:  28 9 9 9 9 9\n",
            "http://ihadis.com/books/tirmidi/chapter/29\n",
            "Chapter:  29 8 8 8 8 8\n",
            "http://ihadis.com/books/tirmidi/chapter/30\n",
            "Chapter:  30 25 25 25 25 25\n",
            "http://ihadis.com/books/tirmidi/chapter/31\n",
            "Chapter:  31 112 112 112 112 112\n",
            "http://ihadis.com/books/tirmidi/chapter/32\n",
            "Chapter:  32 25 25 25 25 25\n",
            "http://ihadis.com/books/tirmidi/chapter/33\n",
            "Chapter:  33 9 9 9 9 9\n",
            "http://ihadis.com/books/tirmidi/chapter/34\n",
            "Chapter:  34 110 110 110 110 110\n",
            "http://ihadis.com/books/tirmidi/chapter/35\n",
            "Chapter:  35 108 108 108 108 108\n",
            "http://ihadis.com/books/tirmidi/chapter/36\n",
            "Chapter:  36 47 47 47 47 47\n",
            "http://ihadis.com/books/tirmidi/chapter/37\n",
            "Chapter:  37 33 33 33 33 33\n",
            "http://ihadis.com/books/tirmidi/chapter/38\n",
            "Chapter:  38 39 39 39 39 39\n",
            "http://ihadis.com/books/tirmidi/chapter/39\n",
            "Chapter:  39 43 43 43 43 43\n",
            "http://ihadis.com/books/tirmidi/chapter/40\n",
            "Chapter:  40 48 48 48 48 48\n",
            "http://ihadis.com/books/tirmidi/chapter/41\n",
            "Chapter:  41 139 139 139 139 139\n",
            "http://ihadis.com/books/tirmidi/chapter/42\n",
            "Chapter:  42 52 52 52 52 52\n",
            "http://ihadis.com/books/tirmidi/chapter/43\n",
            "Chapter:  43 22 22 22 22 22\n",
            "http://ihadis.com/books/tirmidi/chapter/44\n",
            "Chapter:  44 419 419 419 419 419\n",
            "http://ihadis.com/books/tirmidi/chapter/45\n",
            "Chapter:  45 235 235 235 235 235\n",
            "http://ihadis.com/books/tirmidi/chapter/46\n",
            "Chapter:  46 352 352 352 352 352\n"
          ]
        }
      ]
    },
    {
      "cell_type": "code",
      "source": [
        "book_name = \"Muslim\"\n",
        "url = \"http://ihadis.com/books/muslim\"\n",
        "total_chapter = 56\n",
        "#start = time.time()\n",
        "hadith_book_scrapping(book_name, url, total_chapter)\n"
      ],
      "metadata": {
        "id": "dqOUyzG3AA6e"
      },
      "execution_count": null,
      "outputs": []
    },
    {
      "cell_type": "code",
      "source": [
        "book_name = \"An_naasayi\"\n",
        "url = \"http://ihadis.com/books/nasayi\"\n",
        "total_chapter = 50\n",
        "#start = time.time()\n",
        "hadith_book_scrapping(book_name, url, total_chapter)\n"
      ],
      "metadata": {
        "id": "JLDNMtnAABNi"
      },
      "execution_count": null,
      "outputs": []
    },
    {
      "cell_type": "code",
      "source": [
        "book_name = \"Abu-Dawud\"\n",
        "url = \"http://ihadis.com/books/abi-dawud\"\n",
        "total_chapter = 43\n",
        "#start = time.time()\n",
        "hadith_book_scrapping(book_name, url, total_chapter)"
      ],
      "metadata": {
        "id": "IPD2JxFHoDFs"
      },
      "execution_count": null,
      "outputs": []
    },
    {
      "cell_type": "code",
      "source": [
        "book_name = \"Ibn-majah\"\n",
        "url = \"http://ihadis.com/books/ibn-majah\"\n",
        "total_chapter = 37\n",
        "#start = time.time()\n",
        "hadith_book_scrapping(book_name, url, total_chapter)"
      ],
      "metadata": {
        "id": "yUeTzSVUEJGo"
      },
      "execution_count": null,
      "outputs": []
    },
    {
      "cell_type": "code",
      "source": [
        "book_name = \"Imam-Malik\"\n",
        "url = \"http://ihadis.com/books/muatta-malik\"\n",
        "total_chapter = 61\n",
        "#start = time.time()\n",
        "hadith_book_scrapping(book_name, url, total_chapter)"
      ],
      "metadata": {
        "id": "vw1o-s5W_vhi"
      },
      "execution_count": null,
      "outputs": []
    },
    {
      "cell_type": "code",
      "source": [
        "book_name = \"Bukhari\"\n",
        "url = \"http://ihadis.com/books/bukhari\"\n",
        "total_chapter = 97\n",
        "#start = time.time()\n",
        "hadith_book_scrapping(book_name, url, total_chapter)"
      ],
      "metadata": {
        "id": "iyNjSEsgXXkq"
      },
      "execution_count": null,
      "outputs": []
    },
    {
      "cell_type": "code",
      "source": [],
      "metadata": {
        "id": "qHbF9-j5YOC1"
      },
      "execution_count": null,
      "outputs": []
    }
  ]
}